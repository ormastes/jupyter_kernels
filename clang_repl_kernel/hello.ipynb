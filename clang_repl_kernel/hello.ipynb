{
 "cells": [
  {
   "cell_type": "code",
   "execution_count": 1,
   "id": "d7f070b6-7056-4c6b-bcf1-d40e324ca577",
   "metadata": {},
   "outputs": [],
   "source": [
    "#include<stdio.h>"
   ]
  },
  {
   "cell_type": "code",
   "execution_count": 2,
   "id": "438e5717-0776-4eb9-8da8-6da132f474e1",
   "metadata": {},
   "outputs": [
    {
     "name": "stdout",
     "output_type": "stream",
     "text": [
      "In file included from <<< inputs >>>:1:\n",
      "input_line_2:1:1: error: use of undeclared identifier 'print'; did you mean 'printf'?\n",
      "    1 | print(\"hello\");\n",
      "      | ^~~~~\n",
      "      | printf\n",
      "C:\\Program Files (x86)\\Windows Kits\\10\\Include\\10.0.22621.0\\ucrt\\stdio.h:950:37: note: 'printf' declared here\n",
      "  950 |     _CRT_STDIO_INLINE int __CRTDECL printf(\n",
      "      |                                     ^\n",
      "error: Parsing failed."
     ]
    }
   ],
   "source": [
    "print(\"hello\");"
   ]
  },
  {
   "cell_type": "code",
   "execution_count": 3,
   "id": "ab618569-640b-4629-888f-df2e83a234a0",
   "metadata": {},
   "outputs": [
    {
     "name": "stdout",
     "output_type": "stream",
     "text": [
      "202002"
     ]
    }
   ],
   "source": [
    "printf(\"%ld\",__cplusplus);"
   ]
  },
  {
   "cell_type": "code",
   "execution_count": 4,
   "id": "43a3c697-cb9a-4fa1-9fc2-3b76698dfc63",
   "metadata": {},
   "outputs": [
    {
     "name": "stdout",
     "output_type": "stream",
     "text": [
      "hello"
     ]
    }
   ],
   "source": [
    "printf(\"hello\");"
   ]
  },
  {
   "cell_type": "code",
   "execution_count": null,
   "id": "8da4a23d-9471-419b-8add-f6f47b002190",
   "metadata": {},
   "outputs": [],
   "source": []
  }
 ],
 "metadata": {
  "kernelspec": {
   "display_name": "Clang-Repl (C++20)",
   "language": "c++",
   "name": "clang_repl_cpp20"
  },
  "language_info": {
   "codemirror_mode": "c++",
   "file_extension": ".cpp",
   "mimetype": "text/x-c++src",
   "name": "c++"
  }
 },
 "nbformat": 4,
 "nbformat_minor": 5
}
