{
 "cells": [
  {
   "cell_type": "code",
   "execution_count": 1,
   "id": "d7f070b6-7056-4c6b-bcf1-d40e324ca577",
   "metadata": {},
   "outputs": [],
   "source": [
    "#include<stdio.h>"
   ]
  },
  {
   "cell_type": "code",
   "execution_count": null,
   "id": "438e5717-0776-4eb9-8da8-6da132f474e1",
   "metadata": {},
   "outputs": [],
   "source": [
    "printf(\"hello\");"
   ]
  },
  {
   "cell_type": "code",
   "execution_count": null,
   "id": "ab618569-640b-4629-888f-df2e83a234a0",
   "metadata": {},
   "outputs": [],
   "source": [
    "printf(\"%ld\",__cplusplus);"
   ]
  },
  {
   "cell_type": "code",
   "execution_count": 1,
   "id": "43a3c697-cb9a-4fa1-9fc2-3b76698dfc63",
   "metadata": {},
   "outputs": [
    {
     "name": "stdout",
     "output_type": "stream",
     "text": [
      "hello1"
     ]
    }
   ],
   "source": [
    "printf(\"hello1\");"
   ]
  },
  {
   "cell_type": "raw",
   "id": "18dbd529-d437-4d3a-9a07-655230e4a98a",
   "metadata": {},
   "source": [
    "printd\n"
   ]
  },
  {
   "cell_type": "code",
   "execution_count": 1,
   "id": "1cb3854e-b8a2-4d52-80e1-4a34edcea45f",
   "metadata": {},
   "outputs": [
    {
     "name": "stdout",
     "output_type": "stream",
     "text": [
      "a\n"
     ]
    }
   ],
   "source": [
    "print('a')"
   ]
  },
  {
   "cell_type": "raw",
   "id": "963aace0-8eb2-4565-8997-e77c4228b794",
   "metadata": {},
   "source": [
    "print('b')\n"
   ]
  },
  {
   "cell_type": "code",
   "execution_count": null,
   "id": "22f41988-da02-4fdc-a7d1-eddae6385990",
   "metadata": {},
   "outputs": [],
   "source": [
    "print('b')"
   ]
  }
 ],
 "metadata": {
  "kernelspec": {
   "display_name": "Clang-Repl (C++20)",
   "language": "c++",
   "name": "clang_repl_cpp20"
  },
  "language_info": {
   "codemirror_mode": "c++",
   "file_extension": ".cpp",
   "mimetype": "text/x-c++src",
   "name": "c++"
  }
 },
 "nbformat": 4,
 "nbformat_minor": 5
}
