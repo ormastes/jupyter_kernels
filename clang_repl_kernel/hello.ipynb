{
 "cells": [
  {
   "cell_type": "code",
   "execution_count": 1,
   "id": "d7f070b6-7056-4c6b-bcf1-d40e324ca577",
   "metadata": {},
   "outputs": [],
   "source": [
    "#include<stdio.h>"
   ]
  },
  {
   "cell_type": "code",
   "execution_count": 2,
   "id": "438e5717-0776-4eb9-8da8-6da132f474e1",
   "metadata": {},
   "outputs": [
    {
     "name": "stdout",
     "output_type": "stream",
     "text": [
      "hello"
     ]
    }
   ],
   "source": [
    "printf(\"hello\");"
   ]
  },
  {
   "cell_type": "code",
   "execution_count": 3,
   "id": "ab618569-640b-4629-888f-df2e83a234a0",
   "metadata": {},
   "outputs": [
    {
     "name": "stdout",
     "output_type": "stream",
     "text": [
      "202302"
     ]
    }
   ],
   "source": [
    "printf(\"%ld\",__cplusplus);"
   ]
  },
  {
   "cell_type": "code",
   "execution_count": 4,
   "id": "43a3c697-cb9a-4fa1-9fc2-3b76698dfc63",
   "metadata": {},
   "outputs": [
    {
     "name": "stdout",
     "output_type": "stream",
     "text": [
      "hello1"
     ]
    }
   ],
   "source": [
    "printf(\"hello1\");"
   ]
  },
  {
   "cell_type": "code",
   "execution_count": 8,
   "id": "1cb3854e-b8a2-4d52-80e1-4a34edcea45f",
   "metadata": {},
   "outputs": [],
   "source": [
    "int adder(int a, int b) { \\\n",
    "    return a+b;\\\n",
    "}"
   ]
  },
  {
   "cell_type": "code",
   "execution_count": 9,
   "id": "22f41988-da02-4fdc-a7d1-eddae6385990",
   "metadata": {},
   "outputs": [
    {
     "name": "stdout",
     "output_type": "stream",
     "text": [
      "3"
     ]
    }
   ],
   "source": [
    "printf(\"%d\", adder(1,2));"
   ]
  },
  {
   "cell_type": "code",
   "execution_count": 16,
   "id": "d6af9d61-a49f-4d89-ba2c-925e88171af8",
   "metadata": {},
   "outputs": [],
   "source": [
    "class A {\\\n",
    "public: int mul(int a, int b) {\\\n",
    "    return a*b;\\\n",
    "}\\\n",
    "\\\n",
    "int _sum=0;\\\n",
    "\\\n",
    "int div(int a, int b) {\\\n",
    "    return a/b;\\\n",
    "}\\\n",
    "};"
   ]
  },
  {
   "cell_type": "code",
   "execution_count": 17,
   "id": "a69f4590-e27b-4fc0-b424-07d93aa85020",
   "metadata": {},
   "outputs": [],
   "source": [
    "A a;"
   ]
  },
  {
   "cell_type": "code",
   "execution_count": 18,
   "id": "3fd4c99c-0dff-4ce7-ad9d-84f77f1c91a4",
   "metadata": {},
   "outputs": [
    {
     "name": "stdout",
     "output_type": "stream",
     "text": [
      "8"
     ]
    }
   ],
   "source": [
    "printf(\"%d\", a.mul(4,2));"
   ]
  },
  {
   "cell_type": "code",
   "execution_count": null,
   "id": "2d28489b-3656-4ae7-b448-28c4ca33153d",
   "metadata": {},
   "outputs": [],
   "source": []
  }
 ],
 "metadata": {
  "kernelspec": {
   "display_name": "Clang-Repl (C++23)",
   "language": "c++",
   "name": "clang_repl_cpp23"
  },
  "language_info": {
   "codemirror_mode": "c++",
   "file_extension": ".cpp",
   "mimetype": "text/x-c++src",
   "name": "c++"
  }
 },
 "nbformat": 4,
 "nbformat_minor": 5
}
